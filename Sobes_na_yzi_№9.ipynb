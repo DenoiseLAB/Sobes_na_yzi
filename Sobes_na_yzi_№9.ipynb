{
  "nbformat": 4,
  "nbformat_minor": 0,
  "metadata": {
    "colab": {
      "provenance": []
    },
    "kernelspec": {
      "name": "python3",
      "display_name": "Python 3"
    },
    "language_info": {
      "name": "python"
    }
  },
  "cells": [
    {
      "cell_type": "code",
      "source": [
        "import pandas as pd"
      ],
      "metadata": {
        "id": "537szPg8V0i6"
      },
      "execution_count": 1,
      "outputs": []
    },
    {
      "cell_type": "code",
      "source": [
        "data = pd.DataFrame({\n",
        "    'Feature1': [1, 2, 3, 4, 5],\n",
        "    'Feature2': [2, 4, 6, 8, 10],\n",
        "    'Feature3': [3, 6, 9, 12, 15]\n",
        "})"
      ],
      "metadata": {
        "id": "JQV4WSdrV2Nq"
      },
      "execution_count": 2,
      "outputs": []
    },
    {
      "cell_type": "code",
      "source": [
        "std_deviation = data.std()"
      ],
      "metadata": {
        "id": "bIofjEYrV4MH"
      },
      "execution_count": 3,
      "outputs": []
    },
    {
      "cell_type": "code",
      "source": [
        "variance = data.var()"
      ],
      "metadata": {
        "id": "mpSxUNNeV6En"
      },
      "execution_count": 4,
      "outputs": []
    },
    {
      "cell_type": "code",
      "execution_count": 5,
      "metadata": {
        "colab": {
          "base_uri": "https://localhost:8080/"
        },
        "id": "ZmszMmUCQMCK",
        "outputId": "aca0beb1-e871-4dc2-896f-30f902c45770"
      },
      "outputs": [
        {
          "output_type": "stream",
          "name": "stdout",
          "text": [
            "Стандартное отклонение:\n",
            "Feature1    1.581139\n",
            "Feature2    3.162278\n",
            "Feature3    4.743416\n",
            "dtype: float64\n",
            "\n",
            "Дисперсия:\n",
            "Feature1     2.5\n",
            "Feature2    10.0\n",
            "Feature3    22.5\n",
            "dtype: float64\n"
          ]
        }
      ],
      "source": [
        "print(\"Стандартное отклонение:\")\n",
        "print(std_deviation)\n",
        "print(\"\\nДисперсия:\")\n",
        "print(variance)"
      ]
    },
    {
      "cell_type": "code",
      "source": [],
      "metadata": {
        "id": "vfHG4UHbdyEw"
      },
      "execution_count": null,
      "outputs": []
    }
  ]
}