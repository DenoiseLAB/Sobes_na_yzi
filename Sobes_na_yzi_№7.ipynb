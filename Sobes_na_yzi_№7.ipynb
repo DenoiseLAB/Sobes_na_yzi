{
  "nbformat": 4,
  "nbformat_minor": 0,
  "metadata": {
    "colab": {
      "provenance": []
    },
    "kernelspec": {
      "name": "python3",
      "display_name": "Python 3"
    },
    "language_info": {
      "name": "python"
    }
  },
  "cells": [
    {
      "cell_type": "code",
      "source": [
        "import pandas as pd"
      ],
      "metadata": {
        "id": "5ODxYJPFVKpj"
      },
      "execution_count": 1,
      "outputs": []
    },
    {
      "cell_type": "code",
      "execution_count": 2,
      "metadata": {
        "id": "tsh6_2WWQCQo"
      },
      "outputs": [],
      "source": [
        "data = pd.DataFrame({\n",
        "    'Color': ['Red', 'Blue', 'Green', 'Red', 'Green'],\n",
        "    'Size': ['Small', 'Large', 'Medium', 'Medium', 'Small'],\n",
        "    'Shape': ['Circle', 'Square', 'Triangle', 'Square', 'Circle']\n",
        "})"
      ]
    },
    {
      "cell_type": "code",
      "source": [
        "one_hot_encoded_data = pd.get_dummies(data)"
      ],
      "metadata": {
        "id": "YRXAJGD9VM_t"
      },
      "execution_count": 3,
      "outputs": []
    },
    {
      "cell_type": "code",
      "source": [
        "print(one_hot_encoded_data)"
      ],
      "metadata": {
        "colab": {
          "base_uri": "https://localhost:8080/"
        },
        "id": "RgOwi3-MVN7o",
        "outputId": "046feee5-86ac-4914-aca4-5d6df4496b1c"
      },
      "execution_count": 4,
      "outputs": [
        {
          "output_type": "stream",
          "name": "stdout",
          "text": [
            "   Color_Blue  Color_Green  Color_Red  Size_Large  Size_Medium  Size_Small  \\\n",
            "0           0            0          1           0            0           1   \n",
            "1           1            0          0           1            0           0   \n",
            "2           0            1          0           0            1           0   \n",
            "3           0            0          1           0            1           0   \n",
            "4           0            1          0           0            0           1   \n",
            "\n",
            "   Shape_Circle  Shape_Square  Shape_Triangle  \n",
            "0             1             0               0  \n",
            "1             0             1               0  \n",
            "2             0             0               1  \n",
            "3             0             1               0  \n",
            "4             1             0               0  \n"
          ]
        }
      ]
    }
  ]
}